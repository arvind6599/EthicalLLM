{
 "cells": [
  {
   "cell_type": "code",
   "execution_count": 7,
   "metadata": {},
   "outputs": [
    {
     "name": "stderr",
     "output_type": "stream",
     "text": [
      "config.json: 100%|██████████| 1.08k/1.08k [00:00<00:00, 215kB/s]\n",
      "c:\\Users\\arvin\\anaconda3\\envs\\dh_lab\\lib\\site-packages\\huggingface_hub\\file_download.py:149: UserWarning: `huggingface_hub` cache-system uses symlinks by default to efficiently store duplicated files but your machine does not support them in C:\\Users\\arvin\\.cache\\huggingface\\hub\\models--edbeeching--gpt-neo-125M-imdb. Caching files will still work but in a degraded version that might require more space on your disk. This warning can be disabled by setting the `HF_HUB_DISABLE_SYMLINKS_WARNING` environment variable. For more details, see https://huggingface.co/docs/huggingface_hub/how-to-cache#limitations.\n",
      "To support symlinks on Windows, you either need to activate Developer Mode or to run Python as an administrator. In order to see activate developer mode, see this article: https://docs.microsoft.com/en-us/windows/apps/get-started/enable-your-device-for-development\n",
      "  warnings.warn(message)\n",
      "pytorch_model.bin: 100%|██████████| 551M/551M [01:03<00:00, 8.65MB/s] \n",
      "generation_config.json: 100%|██████████| 119/119 [00:00<00:00, 39.8kB/s]\n"
     ]
    }
   ],
   "source": [
    "from peft import LoraConfig\n",
    "from trl import AutoModelForCausalLMWithValueHead\n",
    "\n",
    "model_id = \"edbeeching/gpt-neo-125M-imdb\"\n",
    "lora_config = LoraConfig(\n",
    "    r=16,\n",
    "    lora_alpha=32,\n",
    "    lora_dropout=0.05,\n",
    "    bias=\"none\",\n",
    "    task_type=\"CAUSAL_LM\",\n",
    ")\n",
    "\n",
    "model = AutoModelForCausalLMWithValueHead.from_pretrained(\n",
    "    model_id, \n",
    "    peft_config=lora_config,\n",
    ")\n"
   ]
  },
  {
   "cell_type": "markdown",
   "metadata": {},
   "source": [
    "## Use the example script ppo.py from TRL with the command --use_peft to finetune using LoRa"
   ]
  },
  {
   "cell_type": "code",
   "execution_count": 10,
   "metadata": {},
   "outputs": [],
   "source": [
    "import accelerate"
   ]
  },
  {
   "cell_type": "code",
   "execution_count": 16,
   "metadata": {},
   "outputs": [
    {
     "name": "stderr",
     "output_type": "stream",
     "text": [
      "usage: accelerate <command> [<args>] config [-h] [--config_file CONFIG_FILE]\n",
      "                                            {default,update} ...\n",
      "accelerate <command> [<args>] config: error: argument subcommand: invalid choice: '#' (choose from 'default', 'update')\n"
     ]
    }
   ],
   "source": [
    "!accelerate config --lora # will prompt you to define the training configuration"
   ]
  }
 ],
 "metadata": {
  "kernelspec": {
   "display_name": "dh_lab",
   "language": "python",
   "name": "python3"
  },
  "language_info": {
   "codemirror_mode": {
    "name": "ipython",
    "version": 3
   },
   "file_extension": ".py",
   "mimetype": "text/x-python",
   "name": "python",
   "nbconvert_exporter": "python",
   "pygments_lexer": "ipython3",
   "version": "3.9.18"
  }
 },
 "nbformat": 4,
 "nbformat_minor": 2
}
